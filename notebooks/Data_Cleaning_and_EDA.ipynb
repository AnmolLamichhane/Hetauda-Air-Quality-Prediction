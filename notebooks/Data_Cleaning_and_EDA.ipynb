{
 "cells": [
  {
   "cell_type": "markdown",
   "id": "eebd7fea",
   "metadata": {},
   "source": [
    "# Predicting Air Quality in Hetauda Using Machine Learning\n",
    "This notebook covers the data collection, cleaning, and exploratory data analysis for the project."
   ]
  },
  {
   "cell_type": "code",
   "execution_count": 1,
   "id": "e69b189a",
   "metadata": {},
   "outputs": [],
   "source": [
    "import pandas as pd"
   ]
  },
  {
   "cell_type": "code",
   "execution_count": 3,
   "id": "11417155",
   "metadata": {},
   "outputs": [],
   "source": [
    "df = pd.read_csv(\"C:/Users/anmol/OneDrive/Documents/Hetauda_Air_Quality_Prediction/data/raw/hetauda-raw-weather-parameters.csv\")"
   ]
  },
  {
   "cell_type": "code",
   "execution_count": 5,
   "id": "a80e23b3",
   "metadata": {},
   "outputs": [
    {
     "data": {
      "text/html": [
       "<div>\n",
       "<style scoped>\n",
       "    .dataframe tbody tr th:only-of-type {\n",
       "        vertical-align: middle;\n",
       "    }\n",
       "\n",
       "    .dataframe tbody tr th {\n",
       "        vertical-align: top;\n",
       "    }\n",
       "\n",
       "    .dataframe thead th {\n",
       "        text-align: right;\n",
       "    }\n",
       "</style>\n",
       "<table border=\"1\" class=\"dataframe\">\n",
       "  <thead>\n",
       "    <tr style=\"text-align: right;\">\n",
       "      <th></th>\n",
       "      <th>time</th>\n",
       "      <th>temperature_max</th>\n",
       "      <th>temperature_min</th>\n",
       "      <th>dew_point_2m_mean (°C)</th>\n",
       "      <th>wind_speed_10m_mean (km/h)</th>\n",
       "      <th>surface_pressure_mean (hPa)</th>\n",
       "      <th>relative_humidity_2m_mean (%)</th>\n",
       "    </tr>\n",
       "  </thead>\n",
       "  <tbody>\n",
       "    <tr>\n",
       "      <th>0</th>\n",
       "      <td>1/1/2022</td>\n",
       "      <td>19.4</td>\n",
       "      <td>9.0</td>\n",
       "      <td>9.3</td>\n",
       "      <td>3.9</td>\n",
       "      <td>965.7</td>\n",
       "      <td>76</td>\n",
       "    </tr>\n",
       "    <tr>\n",
       "      <th>1</th>\n",
       "      <td>1/2/2022</td>\n",
       "      <td>20.4</td>\n",
       "      <td>7.8</td>\n",
       "      <td>8.9</td>\n",
       "      <td>4.1</td>\n",
       "      <td>964.2</td>\n",
       "      <td>75</td>\n",
       "    </tr>\n",
       "    <tr>\n",
       "      <th>2</th>\n",
       "      <td>1/3/2022</td>\n",
       "      <td>20.4</td>\n",
       "      <td>9.0</td>\n",
       "      <td>8.3</td>\n",
       "      <td>4.5</td>\n",
       "      <td>962.5</td>\n",
       "      <td>71</td>\n",
       "    </tr>\n",
       "    <tr>\n",
       "      <th>3</th>\n",
       "      <td>1/4/2022</td>\n",
       "      <td>19.6</td>\n",
       "      <td>8.8</td>\n",
       "      <td>9.3</td>\n",
       "      <td>4.3</td>\n",
       "      <td>963.1</td>\n",
       "      <td>73</td>\n",
       "    </tr>\n",
       "    <tr>\n",
       "      <th>4</th>\n",
       "      <td>1/5/2022</td>\n",
       "      <td>20.3</td>\n",
       "      <td>9.3</td>\n",
       "      <td>9.5</td>\n",
       "      <td>4.3</td>\n",
       "      <td>962.9</td>\n",
       "      <td>73</td>\n",
       "    </tr>\n",
       "  </tbody>\n",
       "</table>\n",
       "</div>"
      ],
      "text/plain": [
       "       time  temperature_max  temperature_min  dew_point_2m_mean (°C)  \\\n",
       "0  1/1/2022             19.4              9.0                     9.3   \n",
       "1  1/2/2022             20.4              7.8                     8.9   \n",
       "2  1/3/2022             20.4              9.0                     8.3   \n",
       "3  1/4/2022             19.6              8.8                     9.3   \n",
       "4  1/5/2022             20.3              9.3                     9.5   \n",
       "\n",
       "   wind_speed_10m_mean (km/h)  surface_pressure_mean (hPa)  \\\n",
       "0                         3.9                        965.7   \n",
       "1                         4.1                        964.2   \n",
       "2                         4.5                        962.5   \n",
       "3                         4.3                        963.1   \n",
       "4                         4.3                        962.9   \n",
       "\n",
       "   relative_humidity_2m_mean (%)  \n",
       "0                             76  \n",
       "1                             75  \n",
       "2                             71  \n",
       "3                             73  \n",
       "4                             73  "
      ]
     },
     "execution_count": 5,
     "metadata": {},
     "output_type": "execute_result"
    }
   ],
   "source": [
    "df.head()"
   ]
  },
  {
   "cell_type": "code",
   "execution_count": null,
   "id": "34446064",
   "metadata": {},
   "outputs": [],
   "source": []
  }
 ],
 "metadata": {
  "kernelspec": {
   "display_name": "base",
   "language": "python",
   "name": "python3"
  },
  "language_info": {
   "codemirror_mode": {
    "name": "ipython",
    "version": 3
   },
   "file_extension": ".py",
   "mimetype": "text/x-python",
   "name": "python",
   "nbconvert_exporter": "python",
   "pygments_lexer": "ipython3",
   "version": "3.12.7"
  }
 },
 "nbformat": 4,
 "nbformat_minor": 5
}
