{
 "cells": [
  {
   "cell_type": "markdown",
   "id": "eebd7fea",
   "metadata": {},
   "source": [
    "# Predicting Air Quality in Hetauda Using Machine Learning\n",
    "This notebook covers the data collection, cleaning, and exploratory data analysis for the project."
   ]
  }
 ],
 "metadata": {
  "kernelspec": {
   "display_name": "base",
   "language": "python",
   "name": "python3"
  },
  "language_info": {
   "codemirror_mode": {
    "name": "ipython",
    "version": 3
   },
   "file_extension": ".py",
   "mimetype": "text/x-python",
   "name": "python",
   "nbconvert_exporter": "python",
   "pygments_lexer": "ipython3",
   "version": "3.12.7"
  }
 },
 "nbformat": 4,
 "nbformat_minor": 5
}
